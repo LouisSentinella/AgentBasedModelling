{
 "cells": [
  {
   "cell_type": "code",
   "execution_count": 1,
   "metadata": {
    "collapsed": true
   },
   "outputs": [],
   "source": [
    "from mesa.visualization.modules import CanvasGrid\n",
    "from mesa.visualization.ModularVisualization import ModularServer\n",
    "from money_model import *"
   ]
  },
  {
   "cell_type": "code",
   "execution_count": 2,
   "outputs": [],
   "source": [
    "def agent_portrayal(agent):\n",
    "    portrayal = {\"Shape\": \"circle\",\n",
    "                 \"Filled\": \"true\",\n",
    "                 \"r\": 0.5}\n",
    "\n",
    "    if agent.wealth > 0:\n",
    "        portrayal[\"Color\"] = \"red\"\n",
    "        portrayal[\"Layer\"] = 0\n",
    "    else:\n",
    "        portrayal[\"Color\"] = \"grey\"\n",
    "        portrayal[\"Layer\"] = 1\n",
    "        portrayal[\"r\"] = 0.2\n",
    "    return portrayal"
   ],
   "metadata": {
    "collapsed": false,
    "pycharm": {
     "name": "#%%\n"
    }
   }
  },
  {
   "cell_type": "code",
   "execution_count": 3,
   "outputs": [],
   "source": [
    "from mesa.visualization.modules import ChartModule\n",
    "\n",
    "chart = ChartModule([{\"Label\": \"Gini\",\n",
    "                     \"Color\": \"Black\"}],\n",
    "                    data_collector_name='datacollector')\n",
    "grid = CanvasGrid(agent_portrayal, 100, 100, 500, 500)\n",
    "\n",
    "server = ModularServer(MoneyModel, [grid, chart], \"Money Model\", {\"N\": 800, \"width\": 100, \"height\": 100})"
   ],
   "metadata": {
    "collapsed": false,
    "pycharm": {
     "name": "#%%\n"
    }
   }
  },
  {
   "cell_type": "code",
   "execution_count": 4,
   "outputs": [
    {
     "name": "stdout",
     "output_type": "stream",
     "text": [
      "Interface starting at http://127.0.0.1:8521\n"
     ]
    },
    {
     "ename": "RuntimeError",
     "evalue": "This event loop is already running",
     "output_type": "error",
     "traceback": [
      "\u001B[1;31m---------------------------------------------------------------------------\u001B[0m",
      "\u001B[1;31mRuntimeError\u001B[0m                              Traceback (most recent call last)",
      "Input \u001B[1;32mIn [4]\u001B[0m, in \u001B[0;36m<module>\u001B[1;34m\u001B[0m\n\u001B[0;32m      1\u001B[0m server\u001B[38;5;241m.\u001B[39mport \u001B[38;5;241m=\u001B[39m \u001B[38;5;241m8521\u001B[39m\n\u001B[1;32m----> 2\u001B[0m \u001B[43mserver\u001B[49m\u001B[38;5;241;43m.\u001B[39;49m\u001B[43mlaunch\u001B[49m\u001B[43m(\u001B[49m\u001B[43m)\u001B[49m\n",
      "File \u001B[1;32md:\\cs and ai\\ai2\\agentbasedmodelling\\venv\\lib\\site-packages\\mesa\\visualization\\ModularVisualization.py:337\u001B[0m, in \u001B[0;36mModularServer.launch\u001B[1;34m(self, port, open_browser)\u001B[0m\n\u001B[0;32m    335\u001B[0m     webbrowser\u001B[38;5;241m.\u001B[39mopen(url)\n\u001B[0;32m    336\u001B[0m tornado\u001B[38;5;241m.\u001B[39mautoreload\u001B[38;5;241m.\u001B[39mstart()\n\u001B[1;32m--> 337\u001B[0m \u001B[43mtornado\u001B[49m\u001B[38;5;241;43m.\u001B[39;49m\u001B[43mioloop\u001B[49m\u001B[38;5;241;43m.\u001B[39;49m\u001B[43mIOLoop\u001B[49m\u001B[38;5;241;43m.\u001B[39;49m\u001B[43mcurrent\u001B[49m\u001B[43m(\u001B[49m\u001B[43m)\u001B[49m\u001B[38;5;241;43m.\u001B[39;49m\u001B[43mstart\u001B[49m\u001B[43m(\u001B[49m\u001B[43m)\u001B[49m\n",
      "File \u001B[1;32md:\\cs and ai\\ai2\\agentbasedmodelling\\venv\\lib\\site-packages\\tornado\\platform\\asyncio.py:199\u001B[0m, in \u001B[0;36mBaseAsyncIOLoop.start\u001B[1;34m(self)\u001B[0m\n\u001B[0;32m    197\u001B[0m     \u001B[38;5;28mself\u001B[39m\u001B[38;5;241m.\u001B[39m_setup_logging()\n\u001B[0;32m    198\u001B[0m     asyncio\u001B[38;5;241m.\u001B[39mset_event_loop(\u001B[38;5;28mself\u001B[39m\u001B[38;5;241m.\u001B[39masyncio_loop)\n\u001B[1;32m--> 199\u001B[0m     \u001B[38;5;28;43mself\u001B[39;49m\u001B[38;5;241;43m.\u001B[39;49m\u001B[43masyncio_loop\u001B[49m\u001B[38;5;241;43m.\u001B[39;49m\u001B[43mrun_forever\u001B[49m\u001B[43m(\u001B[49m\u001B[43m)\u001B[49m\n\u001B[0;32m    200\u001B[0m \u001B[38;5;28;01mfinally\u001B[39;00m:\n\u001B[0;32m    201\u001B[0m     asyncio\u001B[38;5;241m.\u001B[39mset_event_loop(old_loop)\n",
      "File \u001B[1;32mC:\\Program Files\\WindowsApps\\PythonSoftwareFoundation.Python.3.9_3.9.2800.0_x64__qbz5n2kfra8p0\\lib\\asyncio\\base_events.py:586\u001B[0m, in \u001B[0;36mBaseEventLoop.run_forever\u001B[1;34m(self)\u001B[0m\n\u001B[0;32m    584\u001B[0m \u001B[38;5;124;03m\"\"\"Run until stop() is called.\"\"\"\u001B[39;00m\n\u001B[0;32m    585\u001B[0m \u001B[38;5;28mself\u001B[39m\u001B[38;5;241m.\u001B[39m_check_closed()\n\u001B[1;32m--> 586\u001B[0m \u001B[38;5;28;43mself\u001B[39;49m\u001B[38;5;241;43m.\u001B[39;49m\u001B[43m_check_running\u001B[49m\u001B[43m(\u001B[49m\u001B[43m)\u001B[49m\n\u001B[0;32m    587\u001B[0m \u001B[38;5;28mself\u001B[39m\u001B[38;5;241m.\u001B[39m_set_coroutine_origin_tracking(\u001B[38;5;28mself\u001B[39m\u001B[38;5;241m.\u001B[39m_debug)\n\u001B[0;32m    588\u001B[0m \u001B[38;5;28mself\u001B[39m\u001B[38;5;241m.\u001B[39m_thread_id \u001B[38;5;241m=\u001B[39m threading\u001B[38;5;241m.\u001B[39mget_ident()\n",
      "File \u001B[1;32mC:\\Program Files\\WindowsApps\\PythonSoftwareFoundation.Python.3.9_3.9.2800.0_x64__qbz5n2kfra8p0\\lib\\asyncio\\base_events.py:578\u001B[0m, in \u001B[0;36mBaseEventLoop._check_running\u001B[1;34m(self)\u001B[0m\n\u001B[0;32m    576\u001B[0m \u001B[38;5;28;01mdef\u001B[39;00m \u001B[38;5;21m_check_running\u001B[39m(\u001B[38;5;28mself\u001B[39m):\n\u001B[0;32m    577\u001B[0m     \u001B[38;5;28;01mif\u001B[39;00m \u001B[38;5;28mself\u001B[39m\u001B[38;5;241m.\u001B[39mis_running():\n\u001B[1;32m--> 578\u001B[0m         \u001B[38;5;28;01mraise\u001B[39;00m \u001B[38;5;167;01mRuntimeError\u001B[39;00m(\u001B[38;5;124m'\u001B[39m\u001B[38;5;124mThis event loop is already running\u001B[39m\u001B[38;5;124m'\u001B[39m)\n\u001B[0;32m    579\u001B[0m     \u001B[38;5;28;01mif\u001B[39;00m events\u001B[38;5;241m.\u001B[39m_get_running_loop() \u001B[38;5;129;01mis\u001B[39;00m \u001B[38;5;129;01mnot\u001B[39;00m \u001B[38;5;28;01mNone\u001B[39;00m:\n\u001B[0;32m    580\u001B[0m         \u001B[38;5;28;01mraise\u001B[39;00m \u001B[38;5;167;01mRuntimeError\u001B[39;00m(\n\u001B[0;32m    581\u001B[0m             \u001B[38;5;124m'\u001B[39m\u001B[38;5;124mCannot run the event loop while another loop is running\u001B[39m\u001B[38;5;124m'\u001B[39m)\n",
      "\u001B[1;31mRuntimeError\u001B[0m: This event loop is already running"
     ]
    }
   ],
   "source": [
    "server.port = 8521\n",
    "server.launch()"
   ],
   "metadata": {
    "collapsed": false,
    "pycharm": {
     "name": "#%%\n"
    }
   }
  }
 ],
 "metadata": {
  "kernelspec": {
   "display_name": "Python 3",
   "language": "python",
   "name": "python3"
  },
  "language_info": {
   "codemirror_mode": {
    "name": "ipython",
    "version": 2
   },
   "file_extension": ".py",
   "mimetype": "text/x-python",
   "name": "python",
   "nbconvert_exporter": "python",
   "pygments_lexer": "ipython2",
   "version": "2.7.6"
  }
 },
 "nbformat": 4,
 "nbformat_minor": 0
}